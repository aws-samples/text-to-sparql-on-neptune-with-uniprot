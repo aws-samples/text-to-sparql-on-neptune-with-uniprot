{
 "cells": [
  {
   "cell_type": "markdown",
   "id": "55f15ec2-955c-49f0-b671-24869d287c0b",
   "metadata": {},
   "source": [
    "# SPARQL generation via Generative AI\n",
    "---\n",
    "This notebook demonstrates one way to generate SPARQL queries from natural language questions. Here we focus on\n",
    "prompting the model by implicitly showing it the database schema."
   ]
  },
  {
   "cell_type": "markdown",
   "id": "9e7d689b-bab5-4e98-b8fa-0b0e1822e631",
   "metadata": {},
   "source": [
    "If you are running this notebook outside of an AWS environment (e.g., on your laptop) then you should uncomment\n",
    "this cell and add the appropriate authentication keys:"
   ]
  },
  {
   "cell_type": "code",
   "execution_count": null,
   "id": "5d547350-185d-4d4a-bfe7-a5ac184cec44",
   "metadata": {},
   "outputs": [],
   "source": [
    "# %env AWS_ACCESS_KEY_ID=<...>\n",
    "# %env AWS_SECRET_ACCESS_KEY=<...>\n",
    "# %env AWS_SESSION_TOKEN=<...>"
   ]
  },
  {
   "cell_type": "markdown",
   "id": "3f9d1e15-d743-4e5d-a1b0-26309fcb7b67",
   "metadata": {},
   "source": [
    "If you are running this notebook inside of an AWS environment (e.g., inside Sagemaker Studio) then\n",
    "use the \"conda_pytorch_p310\" kernel and uncomment the following cell:"
   ]
  },
  {
   "cell_type": "code",
   "execution_count": null,
   "id": "968f025f-44f4-4d8d-aacc-f453fde4e5e3",
   "metadata": {},
   "outputs": [],
   "source": [
    "# %pip install -q boto3==1.34.*\n",
    "# %pip install -q botocore==1.34.*\n",
    "# %pip install -q jupyter==1.0.*\n",
    "# %pip install -q sagemaker==2.212.*\n",
    "# %pip install -q jinja2==3.1.*\n",
    "# %pip install -q ipykernel==6.29.*"
   ]
  },
  {
   "cell_type": "code",
   "execution_count": null,
   "id": "46e7a8e6-941a-4770-b93c-207db7fe3bea",
   "metadata": {},
   "outputs": [],
   "source": [
    "from pathlib import Path\n",
    "import json\n",
    "\n",
    "import boto3\n",
    "import botocore\n",
    "from botocore.exceptions import ClientError\n",
    "import sagemaker\n",
    "import jinja2"
   ]
  },
  {
   "cell_type": "markdown",
   "id": "21508a91",
   "metadata": {},
   "source": [
    "## Set Neptune and Bedrock clients\n",
    "\n",
    "### Get connection to Neptune database\n",
    "And define a function to run a SPARQL query on that database"
   ]
  },
  {
   "cell_type": "code",
   "execution_count": null,
   "id": "686ddbc6",
   "metadata": {},
   "outputs": [],
   "source": [
    "import json\n",
    "import os\n",
    "import requests\n",
    "import boto3\n",
    "from botocore.auth import SigV4Auth\n",
    "from botocore.awsrequest import AWSRequest\n",
    "\n",
    "def get_neptune_env(var):\n",
    "    return os.popen(f\"source ~/.bashrc ; echo ${var}\").read().split(\"\\n\")[0]\n",
    "    \n",
    "# Grab Neptune cluster host/port from notebook instance environment variables\n",
    "# Or manually set these values\n",
    "GRAPH_NOTEBOOK_HOST= get_neptune_env(\"GRAPH_NOTEBOOK_HOST\")\n",
    "GRAPH_NOTEBOOK_PORT= get_neptune_env(\"GRAPH_NOTEBOOK_PORT\")\n",
    "GRAPH_NOTEBOOK_AUTH_MODE= get_neptune_env(\"GRAPH_NOTEBOOK_AUTH_MODE\")\n",
    "AWS_REGION= get_neptune_env(\"AWS_REGION\")\n",
    "USE_IAM_AUTH = GRAPH_NOTEBOOK_AUTH_MODE != 'DEFAULT'\n",
    "\n",
    "NEPTUNE_ENDPOINT = f\"https://{GRAPH_NOTEBOOK_HOST}:{GRAPH_NOTEBOOK_PORT}/sparql\" \n",
    "session = boto3.Session()\n",
    " \n",
    "def execute_sparql(query, crud_type='query'):\n",
    "    request_data = {crud_type: query}\n",
    "    data = request_data\n",
    "    request_hdr = None\n",
    "\n",
    "    if USE_IAM_AUTH:\n",
    "        credentials = session.get_credentials()\n",
    "        credentials = credentials.get_frozen_credentials()\n",
    "        access_key = credentials.access_key\n",
    "        secret_key = credentials.secret_key\n",
    "        service = \"neptune-db\"\n",
    "        session_token = credentials.token\n",
    "        params = None\n",
    "        creds = SimpleNamespace(\n",
    "            access_key=access_key,\n",
    "            secret_key=secret_key,\n",
    "            token=session_token,\n",
    "            region=AWS_REGION\n",
    "        )\n",
    "        request = AWSRequest(\n",
    "            method=\"POST\", url=NEPTUNE_ENDPOINT, data=data, params=params\n",
    "        )\n",
    "        SigV4Auth(creds, service,AWS_REGION).add_auth(request)\n",
    "        request.headers[\"Content-Type\"] = \"application/x-www-form-urlencoded\"\n",
    "        request_hdr = request.headers\n",
    "    else:\n",
    "        request_hdr = {}\n",
    "        request_hdr[\"Content-Type\"] = \"application/x-www-form-urlencoded\"\n",
    "\n",
    "    queryres = requests.request(\n",
    "        method=\"POST\", url=NEPTUNE_ENDPOINT, headers=request_hdr, data=data\n",
    "    )\n",
    "    if str(queryres.status_code) != \"200\":\n",
    "        print(f\"Query error {queryres.status_code} {queryres.text}\")\n",
    "        print(f\"Here is the query:\\n{query}\\n\")\n",
    "        print(f\"CRUD type is *{crud_type}*\")\n",
    "        print(f\"Here is the result:\\n{queryres.text}\\n\")\n",
    "        raise Exception({queryres.status_code, queryres.text})\n",
    "\n",
    "    try:\n",
    "        json_resp = json.loads(queryres.text)    \n",
    "        if 'results' in json_resp:\n",
    "            return json_resp['results']['bindings']\n",
    "        else:\n",
    "            return json_resp\n",
    "    except Exception as e:\n",
    "        print(\"Exception: {}\".format(type(e).__name__))\n",
    "        print(\"Exception message: {}\".format(e))\n",
    "        print(f\"Here is the query:\\n{query}\\n\")\n",
    "        print(f\"CRUD type is *{crud_type}*\")\n",
    "        print(f\"Here is the result:\\n{queryres.text}\\n\")\n",
    "        raise e\n",
    "\n"
   ]
  },
  {
   "cell_type": "markdown",
   "id": "64b29fa6",
   "metadata": {},
   "source": [
    "### Setup Bedrock client\n",
    "And specify which model to use"
   ]
  },
  {
   "cell_type": "code",
   "execution_count": null,
   "id": "7712ca71-5768-4d7e-acf1-bcfb94c573e0",
   "metadata": {},
   "outputs": [],
   "source": [
    "sess = sagemaker.Session()\n",
    "region = sess.boto_region_name\n",
    "sm_client = boto3.client(\"sagemaker\", region_name=region)\n",
    "bedrock_runtime = boto3.client(\"bedrock-runtime\", region_name=region)\n",
    "bedrock = boto3.client(\"bedrock\", region_name=region)\n",
    "\n",
    "jenv = jinja2.Environment(trim_blocks=True, lstrip_blocks=True)\n",
    "model_id = \"anthropic.claude-v2:1\"\n",
    "#model_id = \"anthropic.claude-3-haiku-20240307-v1:0\"\n",
    "#model_id = \"anthropic.claude-3-sonnet-20240229-v1:0\"\n",
    "temperature= 0.1"
   ]
  },
  {
   "cell_type": "code",
   "execution_count": null,
   "id": "c9e85c07-6513-4dd1-978c-22789324e4c8",
   "metadata": {},
   "outputs": [],
   "source": [
    "def run_bedrock(prompt: str) -> str:\n",
    "    try:\n",
    "        response = bedrock_runtime.invoke_model(\n",
    "            modelId=model_id,\n",
    "            body=json.dumps(\n",
    "                {\n",
    "                    \"anthropic_version\": \"bedrock-2023-05-31\",\n",
    "                    \"max_tokens\": 1024,\n",
    "                    \"temperature\": temperature,\n",
    "                    \"messages\": [\n",
    "                        {\n",
    "                            \"role\": \"user\",\n",
    "                            \"content\": [{\"type\": \"text\", \"text\": prompt}],\n",
    "                        }\n",
    "                    ],\n",
    "                }\n",
    "            ),\n",
    "        )\n",
    "        result = json.loads(response.get(\"body\").read())\n",
    "        output_list = result.get(\"content\", [])\n",
    "        return \"\".join(output[\"text\"] for output in output_list if output[\"type\"] == \"text\")\n",
    "\n",
    "    except ClientError as err:\n",
    "        print(f\"Error invoking {model_id}: {err.response['Error']['Code']} {err.response['Error']['Message']}\")\n",
    "        raise err"
   ]
  },
  {
   "cell_type": "markdown",
   "id": "7b1e642d",
   "metadata": {},
   "source": [
    "### Define functions to generate SPARQL using LLM via Bedrock and run it against Neptune"
   ]
  },
  {
   "cell_type": "code",
   "execution_count": null,
   "id": "9067b9e4-663a-4aaa-817f-457da0ba9180",
   "metadata": {},
   "outputs": [],
   "source": [
    "prompt_template = (Path.cwd() / \"resources\" / \"prompt.txt\").read_text()\n",
    "\n",
    "def generate_sparql_query(question: str) -> str:\n",
    "    prompt = jenv.from_string(prompt_template).render(question=question)\n",
    "    response = run_bedrock(prompt).strip()\n",
    "    idx = response.index(\"<sparql>\")\n",
    "    if idx is not None:\n",
    "        response = response[idx+8:]\n",
    "    idx = response.index(\"</sparql>\")\n",
    "    if idx is not None:\n",
    "        response = response[:idx]\n",
    "    return response\n",
    "   \n",
    "prefixes = None\n",
    "with open(\"resources/prefixes.txt\") as f:\n",
    "    prefixes = f.read()\n",
    "\n",
    "def run_generated_query(nonpfx_query):\n",
    "    query = f'''\n",
    "{prefixes}\n",
    "\n",
    "{nonpfx_query}\n",
    "    '''\n",
    "    return execute_sparql(query)\n",
    "    \n",
    "def generate_and_run(question: str):\n",
    "    nonpfx_q = generate_sparql_query(str)\n",
    "    print(nonpfx_q)\n",
    "    return run_generated_query(nonpfx_q)\n",
    "    "
   ]
  },
  {
   "cell_type": "markdown",
   "id": "2de9d2c0",
   "metadata": {},
   "source": [
    "## Try queries\n",
    "Examples:\n",
    "```\n",
    "---\n",
    "- What GO terms are associated with human proteins?\n",
    "- What GO terms are associated with human proteins? Show me their names also.\n",
    "- How many citations are there for papers by A. Bairoch?\n",
    "- Show me all citations by A. Bairoch\n",
    "- Show me all proteins that are located in the mitochondrian\n",
    "- I'd like to see the entries for all proteins encoded by the gene FNDC3A\n",
    "- Select all taxa from the UniProt taxonomy\n",
    "- Select all taxa from the UniProt taxonomy; show me at most 7\n",
    "- Show me at most 5 taxa from the UniProt taxonomy\n",
    "- Select all bacterial taxa and their scientific names from the UniProt taxonomy\n",
    "- Show me up to 10 human taxa and their scientific names from the UniProt taxonomy\n",
    "- Select up to 10 bacterial taxa and their scientific names from the UniProt taxonomy\n",
    "- Tell me all the different categories of databases\n",
    "- Tell me all the different databases you know about\n",
    "- Select all UniProt entries, and their organism and amino acid sequences (including isoforms), for _E. coli K12_ and all its strains\n",
    "- Select the UniProt entry with the mnemonic 'A4_HUMAN'\n",
    "- Select a mapping of UniProt to PDB entries using the UniProt cross-references to the PDB database\n",
    "- Select all cross-references to external databases of the category '3D structure databases' of UniProt entries that are classified with the keyword 'Acetoin biosynthesis (KW-0005)'\n",
    "- Select reviewed UniProt entries (Swiss-Prot), and their recommended protein name, that have a preferred gene name that contains the text 'DNA'\n",
    "- Select reviewed UniProt entries (Swiss-Prot), and their recommended protein name, that have a preferred gene name that contains the word DNA. Show me the gene name too\n",
    "- Show me the preferred gene name and disease annotation of all human UniProt entries that are known to be involved in a disease\n",
    "- Select all human UniProt entries with a sequence variant that leads to a 'loss of function'\n",
    "- Select all distinct human UniProt entries with a sequence variant that leads to a 'loss of function', show me the text of the annotation also\n",
    "- Show me all human UniProt entries with a sequence variant that leads to a tyrosine to phenylalanine substitution\n",
    "- Show me all human UniProt entries with a sequence variant that leads to a Tyr to phenylalanine substitution\n",
    "- Select all UniProt entries with annotated transmembrane regions and the regions' begin and end coordinates on the canonical sequence\n",
    "- Select all UniProt entries that were integrated on the 30th of November 2010\n",
    "- Select all UniProt entries that were integrated on or before the 30th of November 2010\n",
    "- Select all UniProt entries that were integrated on the month of November 2010\n",
    "- Show me all UniProt entries that were added to the database on the month of November 2010\n",
    "#    \"Was any UniProt entry integrated on the 9th of January 2013?\n",
    "#    \"Select all triples that relate to the EMBL CDS entry AA089367.1\n",
    "#    \"Select all triples that relate to the taxon that describes Homo sapiens in the named graph for taxonomy\n",
    "- Select the average number of cross-references to the PDB database of UniProt entries that have at least one cross-reference to the PDB database\n",
    "- Select the number of UniProt entries for each of the EC (Enzyme Commission) second level categories\n",
    "- Find all Natural Variant Annotations if associated via an evidence tag to an article with a pubmed identifier.\n",
    "#- Find how often an article in pubmed was used in an evidence tag in a human protein (ordered by most used to least) # timesout\n",
    "- Find where disease related proteins are known to be located in the cell\n",
    "#- For two accessions find the GO term labels and group them into GO process,function and component\n",
    "- How many reviewed entries (Swiss-Prot) are related to kinase activity?\n",
    "#- Find the release number of the uniprot data that is currently being queried\n",
    "#- Find any uniprot entry which has a name 'HLA class I histocompatibility antigen, B-73 alpha chain' # https://docs.streamlit.io/library/advanced-features/session-state\n",
    "#- Find any uniprot entry, or an uniprot entries domain or component which has a name 'HLA class I histocompatibility antigen, B-73 alpha chain'\n",
    "#- Construct new triples of the type 'HumanProtein' from all human UniProt entries\n",
    "- list all the Homo Sapiens proteins classified with \"cholesterol biosynthetic process\"\n",
    "- list all the Homo Sapiens proteins classified with \"cholesterol biosynthetic process\". Include their names.\n",
    "- list all the Homo Sapiens proteins classified with \"cholesterol biosynthetic process\". Don't include their names.\n",
    "- find all the Homo Sapiens related proteins that have a Gene Ontology (GO) code\n",
    "- look within the taxonomy tree, to see if there are any subclass records under Homo Sapiens. Return the scientific name also\n",
    "```"
   ]
  },
  {
   "cell_type": "code",
   "execution_count": null,
   "id": "99acee21-8121-458b-832a-856c2e09c674",
   "metadata": {},
   "outputs": [],
   "source": [
    "generate_and_run(\"Show me all proteins that are located in the mitochondrian\")\n"
   ]
  },
  {
   "cell_type": "code",
   "execution_count": null,
   "id": "e51dead8",
   "metadata": {},
   "outputs": [],
   "source": [
    "q='''Select the average number of cross-references to the PDB database of UniProt entries that have at least one cross-reference to the PDB database'''\n",
    "generate_and_run(q)"
   ]
  }
 ],
 "metadata": {
  "kernelspec": {
   "display_name": "Python 3",
   "language": "python",
   "name": "python3"
  },
  "language_info": {
   "codemirror_mode": {
    "name": "ipython",
    "version": 3
   },
   "file_extension": ".py",
   "mimetype": "text/x-python",
   "name": "python",
   "nbconvert_exporter": "python",
   "pygments_lexer": "ipython3",
   "version": "3.10.8"
  }
 },
 "nbformat": 4,
 "nbformat_minor": 5
}
