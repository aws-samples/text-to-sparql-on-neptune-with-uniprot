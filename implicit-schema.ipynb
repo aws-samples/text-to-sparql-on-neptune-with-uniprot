{
 "cells": [
  {
   "cell_type": "markdown",
   "id": "55f15ec2-955c-49f0-b671-24869d287c0b",
   "metadata": {},
   "source": [
    "# SPARQL generation via Generative AI\n",
    "---\n",
    "This notebook demonstrates one way to generate SPARQL queries from natural language questions. Here we focus on\n",
    "prompting the model by implicitly showing it the database schema."
   ]
  },
  {
   "cell_type": "markdown",
   "id": "9e7d689b-bab5-4e98-b8fa-0b0e1822e631",
   "metadata": {},
   "source": [
    "If you are running this notebook outside of an AWS environment (e.g., on your laptop) then you should uncomment\n",
    "this cell and add the appropriate authentication keys:"
   ]
  },
  {
   "cell_type": "code",
   "execution_count": null,
   "id": "5d547350-185d-4d4a-bfe7-a5ac184cec44",
   "metadata": {},
   "outputs": [],
   "source": [
    "# %env AWS_ACCESS_KEY_ID=<...>\n",
    "# %env AWS_SECRET_ACCESS_KEY=<...>\n",
    "# %env AWS_SESSION_TOKEN=<...>"
   ]
  },
  {
   "cell_type": "markdown",
   "id": "3f9d1e15-d743-4e5d-a1b0-26309fcb7b67",
   "metadata": {},
   "source": [
    "If you are running this notebook inside of an AWS environment (e.g., inside Sagemaker Studio) then\n",
    "use the \"conda_pytorch_p310\" kernel and uncomment the following cell:"
   ]
  },
  {
   "cell_type": "code",
   "execution_count": null,
   "id": "968f025f-44f4-4d8d-aacc-f453fde4e5e3",
   "metadata": {},
   "outputs": [],
   "source": [
    "# %pip install -q boto3==1.34.*\n",
    "# %pip install -q botocore==1.34.*\n",
    "# %pip install -q jupyter==1.0.*\n",
    "# %pip install -q sagemaker==2.212.*\n",
    "# %pip install -q jinja2==3.1.*\n",
    "# %pip install -q ipykernel==6.29.*\n",
    "# %pip install -q awswrangler==3.7.*"
   ]
  },
  {
   "cell_type": "code",
   "execution_count": 64,
   "id": "46e7a8e6-941a-4770-b93c-207db7fe3bea",
   "metadata": {},
   "outputs": [],
   "source": [
    "from pathlib import Path\n",
    "import json\n",
    "\n",
    "import boto3\n",
    "import botocore\n",
    "from botocore.exceptions import ClientError\n",
    "import sagemaker\n",
    "import jinja2\n",
    "import awswrangler as wr"
   ]
  },
  {
   "cell_type": "code",
   "execution_count": 65,
   "id": "7712ca71-5768-4d7e-acf1-bcfb94c573e0",
   "metadata": {},
   "outputs": [],
   "source": [
    "sess = sagemaker.Session()\n",
    "region = sess.boto_region_name\n",
    "sm_client = boto3.client(\"sagemaker\", region_name=region)\n",
    "bedrock_runtime = boto3.client(\"bedrock-runtime\", region_name=region)\n",
    "bedrock = boto3.client(\"bedrock\", region_name=region)\n",
    "\n",
    "jenv = jinja2.Environment(trim_blocks=True, lstrip_blocks=True)\n",
    "# model_id = \"anthropic.claude-v2:1\"\n",
    "# model_id = \"anthropic.claude-3-haiku-20240307-v1:0\"\n",
    "model_id = \"anthropic.claude-3-sonnet-20240229-v1:0\"\n",
    "temperature= 0.1"
   ]
  },
  {
   "cell_type": "code",
   "execution_count": null,
   "id": "480e9d3c-cc02-47ac-8009-f66532966499",
   "metadata": {},
   "outputs": [],
   "source": [
    "neptune_url = \"sgh-uniprot.cluster-ro-c8eun1oaqppj.us-east-1.neptune.amazonaws.com\"\n",
    "neptune_port = 8182\n",
    "neptune_client = wr.neptune.connect(neptune_url, neptune_port, iam_enabled=True)\n",
    "print(f\"Neptune client status: {neptune_client.status()}\")"
   ]
  },
  {
   "cell_type": "code",
   "execution_count": 51,
   "id": "c9e85c07-6513-4dd1-978c-22789324e4c8",
   "metadata": {},
   "outputs": [],
   "source": [
    "def run_bedrock(prompt: str) -> str:\n",
    "    try:\n",
    "        response = bedrock_runtime.invoke_model(\n",
    "            modelId=model_id,\n",
    "            body=json.dumps(\n",
    "                {\n",
    "                    \"anthropic_version\": \"bedrock-2023-05-31\",\n",
    "                    \"max_tokens\": 1024,\n",
    "                    \"temperature\": temperature,\n",
    "                    \"messages\": [\n",
    "                        {\n",
    "                            \"role\": \"user\",\n",
    "                            \"content\": [{\"type\": \"text\", \"text\": prompt}],\n",
    "                        }\n",
    "                    ],\n",
    "                }\n",
    "            ),\n",
    "        )\n",
    "        result = json.loads(response.get(\"body\").read())\n",
    "        output_list = result.get(\"content\", [])\n",
    "        return \"\".join(output[\"text\"] for output in output_list if output[\"type\"] == \"text\")\n",
    "\n",
    "    except ClientError as err:\n",
    "        print(f\"Error invoking {model_id}: {err.response['Error']['Code']} {err.response['Error']['Message']}\")\n",
    "        raise err"
   ]
  },
  {
   "cell_type": "code",
   "execution_count": 52,
   "id": "9067b9e4-663a-4aaa-817f-457da0ba9180",
   "metadata": {},
   "outputs": [],
   "source": [
    "prompt_template = (Path.cwd() / \"resources\" / \"prompt.txt\").read_text()\n",
    "\n",
    "def generate_sparql_query(question: str) -> str:\n",
    "    prompt = jenv.from_string(prompt_template).render(question=question)\n",
    "    response = run_bedrock(prompt).strip()\n",
    "    idx = response.index(\"<sparql>\")\n",
    "    if idx is not None:\n",
    "        response = response[idx+8:]\n",
    "    idx = response.index(\"</sparql>\")\n",
    "    if idx is not None:\n",
    "        response = response[:idx]\n",
    "    return response"
   ]
  },
  {
   "cell_type": "code",
   "execution_count": null,
   "id": "99acee21-8121-458b-832a-856c2e09c674",
   "metadata": {},
   "outputs": [],
   "source": [
    "query = generate_sparql_query(\"Show me all proteins that are located in the mitochondrian\")\n",
    "print(query)"
   ]
  },
  {
   "cell_type": "code",
   "execution_count": null,
   "id": "81babab0-e0c5-4d93-b482-69bf598dc81e",
   "metadata": {},
   "outputs": [],
   "source": [
    "def query_neptune(query: str) -> Union[pd.DataFrame, str]:\n",
    "    print(f\"query_neptune {query}\")\n",
    "    try:\n",
    "        rv = wr.neptune.execute_sparql(neptune_client, query)\n",
    "        print(f\"query_neptune -> {rv}\")\n",
    "        return rv\n",
    "    except wr.exceptions.QueryFailed as ex:\n",
    "        return str(ex)\n",
    "    except requests.exceptions.JSONDecodeError as ex:\n",
    "        return str(ex)\n",
    "    except Exception as ex:\n",
    "        if \"json.decoder.JSONDecodeError\" in str(ex):\n",
    "            print(\"Looks like result set was too big\")\n",
    "            return None\n",
    "        else:\n",
    "            raise ex\n",
    "\n",
    "def simplify_neptune_df(df: pd.DataFrame) -> pd.DataFrame:\n",
    "    \"\"\"\n",
    "    Replace {'type': 'uri', 'value': 'http://...'} with 'http://...' etc.\n",
    "    \"\"\"\n",
    "    def func(elem):\n",
    "        try:\n",
    "            return elem[\"value\"]\n",
    "        except:\n",
    "            return elem\n",
    "    if df is not None:\n",
    "        return df.applymap(func)\n",
    "    else:\n",
    "        return df\n",
    "\n",
    "\n",
    "select_pat = re.compile(r\"\\s*SELECT\", re.DOTALL|re.IGNORECASE)\n",
    "limit_pat = re.compile(r\"^.*LIMIT\\s+([0-9]+)\\s*$\", re.DOTALL)\n",
    "\n",
    "def add_limit_to_sparql_q(query: str, max_results: int) -> str:\n",
    "    print(f\"add_limit {max_results} <<{query}>>\")\n",
    "    match = select_pat.match(query)\n",
    "    if match:\n",
    "        # only put limits on SELECT queries\n",
    "        match = limit_pat.search(query)\n",
    "        print(f\"match: {match}\")\n",
    "        if match:\n",
    "            print(f\"{match.start(1)}:{match.end(1)} --> {query[match.start(1):match.end(1)]}\")\n",
    "            return query[:match.start(1)] + str(max_results) + query[match.end(1)+1:]\n",
    "        else:\n",
    "            return query + f\"\\nLIMIT {max_results}\"\n",
    "    else:\n",
    "        return query"
   ]
  }
 ],
 "metadata": {
  "kernelspec": {
   "display_name": "Python 3 (ipykernel)",
   "language": "python",
   "name": "python3"
  },
  "language_info": {
   "codemirror_mode": {
    "name": "ipython",
    "version": 3
   },
   "file_extension": ".py",
   "mimetype": "text/x-python",
   "name": "python",
   "nbconvert_exporter": "python",
   "pygments_lexer": "ipython3",
   "version": "3.10.9"
  }
 },
 "nbformat": 4,
 "nbformat_minor": 5
}
