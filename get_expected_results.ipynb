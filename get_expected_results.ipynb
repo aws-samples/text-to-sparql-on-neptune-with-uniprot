{
 "cells": [
  {
   "cell_type": "markdown",
   "metadata": {},
   "source": [
    "# Run ground truth examples and get expected results\n"
   ]
  },
  {
   "cell_type": "markdown",
   "metadata": {},
   "source": [
    "## Setup\n",
    "\n",
    "### Notebook Pre-Req\n",
    "\n",
    "You can upload this notebook into a Jupyter environment configured to use Neptune Workbench. I tested this on an Amazon Sagemaker notebook running Python 3.10.x. \n",
    "\n",
    "### Python Pre-Req\n",
    "\n",
    "I tested this on an Amazon Sagemaker notebook running Python 3.10.x. You need Python 3.9 or higher.\n",
    "\n",
    "### Neptune Pre-Req\n",
    "\n",
    "Your Neptune cluster must run engine version 1.2.x or higher\n",
    "\n",
    "## Open ground truth file and run the queries against Neptune\n"
   ]
  },
  {
   "cell_type": "code",
   "execution_count": 1,
   "metadata": {},
   "outputs": [],
   "source": [
    "!mkdir -p expected"
   ]
  },
  {
   "cell_type": "code",
   "execution_count": 5,
   "metadata": {},
   "outputs": [
    {
     "name": "stdout",
     "output_type": "stream",
     "text": [
      "0\n",
      "1\n",
      "2\n",
      "3\n",
      "4\n",
      "5\n",
      "6\n",
      "7\n",
      "8\n",
      "9\n",
      "10\n",
      "11\n",
      "12\n",
      "13\n",
      "14\n",
      "15\n",
      "16\n",
      "17\n",
      "18\n",
      "19\n",
      "20\n",
      "21\n",
      "22\n",
      "23\n",
      "24\n",
      "25\n",
      "26\n",
      "27\n",
      "28\n",
      "29\n",
      "30\n",
      "31\n",
      "32\n",
      "33\n",
      "34\n",
      "35\n",
      "36\n",
      "37\n",
      "38\n",
      "39\n",
      "40\n",
      "41\n",
      "42\n",
      "43\n"
     ]
    }
   ],
   "source": [
    "import yaml\n",
    "import boto3\n",
    "import utilities as u\n",
    "from pathlib import Path\n",
    "\n",
    "# get ground truth and prefixes\n",
    "resources = Path.cwd() / \"resources\"\n",
    "pfx = (Path.cwd() / \"resources\" / \"prefixes.txt\").read_text()\n",
    "ground_truth = yaml.safe_load((resources / \"ground-truth.yaml\").read_text())\n",
    "session=boto3.Session()\n",
    "\n",
    "for index, q in enumerate(ground_truth):\n",
    "    print(str(index))\n",
    "    nlq=q['question']\n",
    "    sparql=f\"\"\"\n",
    "        {pfx}\n",
    "        \n",
    "        {q['SPARQL']}\n",
    "        \n",
    "        LIMIT 20\n",
    "    \"\"\"\n",
    "\n",
    "    try:\n",
    "        res=u.execute_sparql(sparql, session) \n",
    "        u.write_sparql_res(\"expected\", str(index), nlq, q['SPARQL'], sparql, res, \"\")\n",
    "    except Exception as e:\n",
    "        print(f\"Error on {index}\")\n",
    "        print(\"Exception: {}\".format(type(e).__name__))\n",
    "        print(\"Exception message: {}\".format(e))\n",
    "        error_msg=\"Exception message: {}\".format(e).replace(\"\\n\", \" \")\n",
    "        u.write_sparql_res(\"expected\", str(index), nlq, q['SPARQL'], sparql, {}, error_msg)\n",
    "        print(error_msg)\n"
   ]
  }
 ],
 "metadata": {
  "kernelspec": {
   "display_name": "Python 3",
   "language": "python",
   "name": "python3"
  },
  "language_info": {
   "codemirror_mode": {
    "name": "ipython",
    "version": 3
   },
   "file_extension": ".py",
   "mimetype": "text/x-python",
   "name": "python",
   "nbconvert_exporter": "python",
   "pygments_lexer": "ipython3",
   "version": "3.10.8"
  }
 },
 "nbformat": 4,
 "nbformat_minor": 4
}
