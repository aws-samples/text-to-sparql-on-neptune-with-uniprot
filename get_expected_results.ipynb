{
 "cells": [
  {
   "cell_type": "markdown",
   "metadata": {},
   "source": [
    "# Run ground truth examples and get expected results\n"
   ]
  },
  {
   "cell_type": "markdown",
   "metadata": {},
   "source": [
    "## Setup\n",
    "\n",
    "### Notebook Pre-Req\n",
    "\n",
    "You can upload this notebook into a Jupyter environment configured to use Neptune Workbench. I tested this on an Amazon Sagemaker notebook running Python 3.10.x. \n",
    "\n",
    "### Python Pre-Req\n",
    "\n",
    "I tested this on an Amazon Sagemaker notebook running Python 3.10.x. You need Python 3.9 or higher.\n",
    "\n",
    "### Neptune Pre-Req\n",
    "\n",
    "Your Neptune cluster must run engine version 1.2.x or higher\n",
    "\n",
    "## Open ground truth file and run the queries against Neptune\n"
   ]
  },
  {
   "cell_type": "code",
   "execution_count": null,
   "metadata": {
    "tags": []
   },
   "outputs": [],
   "source": [
    "%%bash\n",
    "#cp -r expected expected1\n",
    "rm -rf expected\n",
    "mkdir -p expected"
   ]
  },
  {
   "cell_type": "code",
   "execution_count": null,
   "metadata": {
    "tags": []
   },
   "outputs": [],
   "source": [
    "import yaml\n",
    "import boto3\n",
    "import utilities as u\n",
    "from pathlib import Path\n",
    "\n",
    "# get ground truth and prefixes\n",
    "resources = Path.cwd() / \"resources\"\n",
    "pfx = (Path.cwd() / \"resources\" / \"prefixes.txt\").read_text()\n",
    "ground_truth = yaml.safe_load((resources / \"ground-truth.yaml\").read_text())\n",
    "session=boto3.Session()\n",
    "\n",
    "def form_sparql(q):\n",
    "    return f\"\"\"\n",
    "    {pfx}\n",
    "\n",
    "    {q['SPARQL']}\n",
    "\n",
    "    LIMIT 20\n",
    "\"\"\".strip()\n",
    "    \n",
    "\n",
    "def run_one_test(index):\n",
    "\n",
    "    q = ground_truth[index]\n",
    "    nlq=q['question']\n",
    "    sparql=form_sparql(q)\n",
    "\n",
    "    try:\n",
    "        res=u.execute_sparql(sparql, session) \n",
    "        u.write_sparql_res(\"expected\", str(index), nlq, q['SPARQL'], sparql, res, \"\")\n",
    "    except Exception as e:\n",
    "        print(f\"Error on {index}\")\n",
    "        print(\"Exception: {}\".format(type(e).__name__))\n",
    "        print(\"Exception message: {}\".format(e))\n",
    "        error_msg=\"Exception message: {}\".format(e).replace(\"\\n\", \" \")\n",
    "        u.write_sparql_res(\"expected\", str(index), nlq, q['SPARQL'], sparql, {}, error_msg)\n",
    "        print(error_msg)\n",
    "\n",
    "def run_tests():\n",
    "    for index, q in enumerate(ground_truth):\n",
    "        run_one_test(index)\n",
    "\n",
    "def run_one_up_test(index):\n",
    "\n",
    "    q = ground_truth[index]\n",
    "    nlq=q['question']\n",
    "    sparql=form_sparql(q)\n",
    "\n",
    "    try:\n",
    "        res=u.execute_sparql_uniprotref(sparql)\n",
    "        u.write_sparql_res(\"up\", str(index), nlq, q['SPARQL'], sparql, res, \"\")\n",
    "    except Exception as e:\n",
    "        print(f\"Error on {index}\")\n",
    "        print(\"Exception: {}\".format(type(e).__name__))\n",
    "        print(\"Exception message: {}\".format(e))\n",
    "        error_msg=\"Exception message: {}\".format(e).replace(\"\\n\", \" \")\n",
    "        u.write_sparql_res(\"up\", str(index), nlq, q['SPARQL'], sparql, {}, error_msg)\n",
    "        print(error_msg)\n",
    "\n",
    "def run_up_tests():\n",
    "    for index, q in enumerate(ground_truth):\n",
    "        run_one_up_test(index)\n"
   ]
  },
  {
   "cell_type": "code",
   "execution_count": null,
   "metadata": {
    "tags": []
   },
   "outputs": [],
   "source": [
    "%%bash\n",
    "rm -rf up\n",
    "mkdir -p up"
   ]
  },
  {
   "cell_type": "code",
   "execution_count": null,
   "metadata": {
    "tags": []
   },
   "outputs": [],
   "source": [
    "run_up_tests()"
   ]
  },
  {
   "cell_type": "code",
   "execution_count": null,
   "metadata": {},
   "outputs": [],
   "source": [
    "run_tests()"
   ]
  },
  {
   "cell_type": "code",
   "execution_count": null,
   "metadata": {
    "tags": []
   },
   "outputs": [],
   "source": [
    "run_one_up_test(34)"
   ]
  },
  {
   "cell_type": "code",
   "execution_count": null,
   "metadata": {
    "tags": []
   },
   "outputs": [],
   "source": [
    "!rm -rf expected/.ipynb_checkpoints up/.ipynb_checkpoints"
   ]
  },
  {
   "cell_type": "code",
   "execution_count": null,
   "metadata": {
    "tags": []
   },
   "outputs": [],
   "source": [
    "u.make_report(\"expected\")\n",
    "u.make_report(\"up\")\n"
   ]
  }
 ],
 "metadata": {
  "kernelspec": {
   "display_name": "Python 3",
   "language": "python",
   "name": "python3"
  },
  "language_info": {
   "codemirror_mode": {
    "name": "ipython",
    "version": 3
   },
   "file_extension": ".py",
   "mimetype": "text/x-python",
   "name": "python",
   "nbconvert_exporter": "python",
   "pygments_lexer": "ipython3",
   "version": "3.10.8"
  }
 },
 "nbformat": 4,
 "nbformat_minor": 4
}
