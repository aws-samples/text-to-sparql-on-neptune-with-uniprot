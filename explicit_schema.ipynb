{
 "cells": [
  {
   "cell_type": "markdown",
   "metadata": {},
   "source": [
    "# Natural Language Questions \n",
    "Shows uniprot query using explicit schema"
   ]
  },
  {
   "cell_type": "markdown",
   "metadata": {},
   "source": [
    "## Setup\n",
    "\n",
    "### Notebook Pre-Req\n",
    "\n",
    "You can upload this notebook into a Jupyter environment configured to use Neptune Workbench. I tested this on an Amazon Sagemaker notebook running Python 3.10.x. \n",
    "\n",
    "### Python Pre-Req\n",
    "\n",
    "I tested this on an Amazon Sagemaker notebook running Python 3.10.x. You need Python 3.9 or higher.\n",
    "\n",
    "### Neptune Pre-Req\n",
    "\n",
    "Your Neptune cluster must run engine version 1.2.x or higher\n",
    "\n",
    "### Bedrock\n",
    "\n",
    "In Bedrock console, allow access to Anthropic Claude v2 model in this region.\n",
    "In Notebook IAM role, add\n",
    "\n",
    "{\n",
    "        \"Action\": [\n",
    "            \"bedrock:ListFoundationModels\",\n",
    "            \"bedrock:InvokeModel\"\n",
    "        ],\n",
    "        \"Resource\": \"*\",\n",
    "        \"Effect\": \"Allow\"\n",
    "}"
   ]
  },
  {
   "cell_type": "markdown",
   "metadata": {},
   "source": [
    "## Install Langchain\n",
    "Need python 3.9 or greater plus langchain 0.0.341 ish"
   ]
  },
  {
   "cell_type": "code",
   "execution_count": null,
   "metadata": {},
   "outputs": [],
   "source": [
    "%%bash \n",
    "# 3.9 or higher?\n",
    "python --version"
   ]
  },
  {
   "cell_type": "code",
   "execution_count": null,
   "metadata": {},
   "outputs": [],
   "source": [
    "!pip install --upgrade --force-reinstall langchain"
   ]
  },
  {
   "cell_type": "code",
   "execution_count": null,
   "metadata": {},
   "outputs": [],
   "source": [
    "!pip install langchain-community"
   ]
  },
  {
   "cell_type": "code",
   "execution_count": null,
   "metadata": {},
   "outputs": [],
   "source": [
    "!pip show langchain"
   ]
  },
  {
   "cell_type": "markdown",
   "metadata": {},
   "source": [
    "### Now restart Kernel *** "
   ]
  },
  {
   "cell_type": "markdown",
   "metadata": {},
   "source": [
    "### Temporary patch\n",
    ".. until next Langchain release is ready .."
   ]
  },
  {
   "cell_type": "code",
   "execution_count": null,
   "metadata": {},
   "outputs": [],
   "source": [
    "!cp neptune_rdf_graph.py ~/anaconda3/envs/JupyterSystemEnv/lib/python3.10/site-packages/langchain_community/graphs/neptune_rdf_graph.py \n"
   ]
  },
  {
   "cell_type": "markdown",
   "metadata": {},
   "source": [
    "### Now restart Kernel *** "
   ]
  },
  {
   "cell_type": "markdown",
   "metadata": {},
   "source": [
    "## Setup Chain\n",
    "\n",
    "Points to consider:\n",
    "- Choice of model: accuracy, performance\n",
    "- The chain introspects Neptune schema, and that gets added to the prompt.\n",
    "- You can pass in EXAMPLES. In the extreme case, those examples can be just resources/prompt.txt. \n",
    "- But if you do that, likely EXAMPLES alone contribute to accuracy. Introspected schema less influential.\n",
    "- So in test this, strike a balance: helpful schema, VERY FEW examples if needed\n"
   ]
  },
  {
   "cell_type": "code",
   "execution_count": null,
   "metadata": {},
   "outputs": [],
   "source": [
    "import os\n",
    "\n",
    "# Grab Neptune cluster host/port from notebook instance environment variables\n",
    "GRAPH_NOTEBOOK_HOST= os.popen(\"source ~/.bashrc ; echo $GRAPH_NOTEBOOK_HOST\").read().split(\"\\n\")[0]\n",
    "GRAPH_NOTEBOOK_PORT= os.popen(\"source ~/.bashrc ; echo $GRAPH_NOTEBOOK_PORT\").read().split(\"\\n\")[0]\n",
    "[GRAPH_NOTEBOOK_HOST, GRAPH_NOTEBOOK_PORT]"
   ]
  },
  {
   "cell_type": "code",
   "execution_count": null,
   "metadata": {},
   "outputs": [],
   "source": [
    "import boto3\n",
    "from langchain.chains.graph_qa.neptune_sparql import NeptuneSparqlQAChain\n",
    "from langchain_community.graphs import NeptuneRdfGraph\n",
    "from langchain.chat_models import BedrockChat\n",
    "from langchain.llms import Bedrock\n",
    "\n",
    "print(\"Creating graph\")\n",
    "graph = None\n",
    "graph = NeptuneRdfGraph(\n",
    "    host=GRAPH_NOTEBOOK_HOST,\n",
    "    port=int(GRAPH_NOTEBOOK_PORT),\n",
    "    use_iam_auth=True,\n",
    "    region_name='us-east-1'\n",
    ")\n",
    "\n",
    "#elems = graph.get_schema_elements\n",
    "# change elems ...\n",
    "#graph.load_schema(elems)\n",
    "\n",
    "print(\"Creating model client\")\n",
    "#MODEL_ID='anthropic.claude-3-sonnet-20240229-v1:0'\n",
    "MODEL_ID='anthropic.claude-v2'\n",
    "bedrock_client = boto3.client('bedrock-runtime')\n",
    "llm = BedrockChat(\n",
    "    model_id = MODEL_ID,\n",
    "    client = bedrock_client\n",
    ")\n",
    "\n",
    "EXAMPLES=\"\" \n",
    "print(\"Creating chain\")\n",
    "chain = NeptuneSparqlQAChain.from_llm(\n",
    "    llm=llm, graph=graph, examples=EXAMPLES, verbose=True, top_K=10, return_intermediate_steps=True, return_direct=False)\n",
    "\n",
    "print(\"Complete\")\n"
   ]
  },
  {
   "cell_type": "code",
   "execution_count": null,
   "metadata": {},
   "outputs": [],
   "source": [
    "print(graph.get_schema)"
   ]
  },
  {
   "cell_type": "code",
   "execution_count": null,
   "metadata": {},
   "outputs": [],
   "source": [
    "graph.get_schema_elements"
   ]
  },
  {
   "cell_type": "markdown",
   "metadata": {},
   "source": [
    "## Ask questions\n"
   ]
  },
  {
   "cell_type": "markdown",
   "metadata": {},
   "source": [
    "### Training questions\n",
    "See resources/prompt.txt"
   ]
  },
  {
   "cell_type": "code",
   "execution_count": null,
   "metadata": {},
   "outputs": [],
   "source": [
    "chain.invoke('''Select the UniProt entry with the mnemonic \"A4_HUMAN\"''')"
   ]
  },
  {
   "cell_type": "markdown",
   "metadata": {},
   "source": [
    "### Advanced questions\n",
    "```\n",
    "- What GO terms are associated with human proteins?\n",
    "- What GO terms are associated with human proteins? Show me their names also.\n",
    "- How many citations are there for papers by A. Bairoch?\n",
    "- Show me all citations by A. Bairoch\n",
    "- Show me all proteins that are located in the mitochondrian\n",
    "- I'd like to see the entries for all proteins encoded by the gene FNDC3A\n",
    "- Select all taxa from the UniProt taxonomy\n",
    "- Select all taxa from the UniProt taxonomy; show me at most 7\n",
    "- Show me at most 5 taxa from the UniProt taxonomy\n",
    "- Select all bacterial taxa and their scientific names from the UniProt taxonomy\n",
    "- Show me up to 10 human taxa and their scientific names from the UniProt taxonomy\n",
    "- Select up to 10 bacterial taxa and their scientific names from the UniProt taxonomy\n",
    "- Tell me all the different categories of databases\n",
    "- Tell me all the different databases you know about\n",
    "- Select all UniProt entries, and their organism and amino acid sequences (including isoforms), for _E. coli K12_ and all its strains\n",
    "- Select the UniProt entry with the mnemonic 'A4_HUMAN'\n",
    "- Select a mapping of UniProt to PDB entries using the UniProt cross-references to the PDB database\n",
    "- Select all cross-references to external databases of the category '3D structure databases' of UniProt entries that are classified with the keyword 'Acetoin biosynthesis (KW-0005)'\n",
    "- Select reviewed UniProt entries (Swiss-Prot), and their recommended protein name, that have a preferred gene name that contains the text 'DNA'\n",
    "- Select reviewed UniProt entries (Swiss-Prot), and their recommended protein name, that have a preferred gene name that contains the word DNA. Show me the gene name too\n",
    "- Show me the preferred gene name and disease annotation of all human UniProt entries that are known to be involved in a disease\n",
    "- Select all human UniProt entries with a sequence variant that leads to a 'loss of function'\n",
    "- Select all distinct human UniProt entries with a sequence variant that leads to a 'loss of function', show me the text of the annotation also\n",
    "- Show me all human UniProt entries with a sequence variant that leads to a tyrosine to phenylalanine substitution\n",
    "- Show me all human UniProt entries with a sequence variant that leads to a Tyr to phenylalanine substitution\n",
    "- Select all UniProt entries with annotated transmembrane regions and the regions' begin and end coordinates on the canonical sequence\n",
    "- Select all UniProt entries that were integrated on the 30th of November 2010\n",
    "- Select all UniProt entries that were integrated on or before the 30th of November 2010\n",
    "- Select all UniProt entries that were integrated on the month of November 2010\n",
    "- Show me all UniProt entries that were added to the database on the month of November 2010\n",
    "#    \"Was any UniProt entry integrated on the 9th of January 2013?\n",
    "#    \"Select all triples that relate to the EMBL CDS entry AA089367.1\n",
    "#    \"Select all triples that relate to the taxon that describes Homo sapiens in the named graph for taxonomy\n",
    "- Select the average number of cross-references to the PDB database of UniProt entries that have at least one cross-reference to the PDB database\n",
    "- Select the number of UniProt entries for each of the EC (Enzyme Commission) second level categories\n",
    "- Find all Natural Variant Annotations if associated via an evidence tag to an article with a pubmed identifier.\n",
    "#- Find how often an article in pubmed was used in an evidence tag in a human protein (ordered by most used to least) # timesout\n",
    "- Find where disease related proteins are known to be located in the cell\n",
    "#- For two accessions find the GO term labels and group them into GO process,function and component\n",
    "- How many reviewed entries (Swiss-Prot) are related to kinase activity?\n",
    "#- Find the release number of the uniprot data that is currently being queried\n",
    "#- Find any uniprot entry which has a name 'HLA class I histocompatibility antigen, B-73 alpha chain' # https://docs.streamlit.io/library/advanced-features/session-state\n",
    "#- Find any uniprot entry, or an uniprot entries domain or component which has a name 'HLA class I histocompatibility antigen, B-73 alpha chain'\n",
    "#- Construct new triples of the type 'HumanProtein' from all human UniProt entries\n",
    "- list all the Homo Sapiens proteins classified with \"cholesterol biosynthetic process\"\n",
    "- list all the Homo Sapiens proteins classified with \"cholesterol biosynthetic process\". Include their names.\n",
    "- list all the Homo Sapiens proteins classified with \"cholesterol biosynthetic process\". Don't include their names.\n",
    "- find all the Homo Sapiens related proteins that have a Gene Ontology (GO) code\n",
    "- look within the taxonomy tree, to see if there are any subclass records under Homo Sapiens. Return the scientific name also\n",
    "```"
   ]
  },
  {
   "cell_type": "code",
   "execution_count": null,
   "metadata": {},
   "outputs": [],
   "source": [
    "chain.invoke('''Select the number of UniProt entries for each of the EC (Enzyme Commission) second level categories''')"
   ]
  }
 ],
 "metadata": {
  "kernelspec": {
   "display_name": "Python 3",
   "language": "python",
   "name": "python3"
  },
  "language_info": {
   "codemirror_mode": {
    "name": "ipython",
    "version": 3
   },
   "file_extension": ".py",
   "mimetype": "text/x-python",
   "name": "python",
   "nbconvert_exporter": "python",
   "pygments_lexer": "ipython3",
   "version": "3.10.8"
  }
 },
 "nbformat": 4,
 "nbformat_minor": 2
}
