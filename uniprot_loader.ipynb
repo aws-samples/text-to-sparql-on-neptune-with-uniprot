{
 "cells": [
  {
   "cell_type": "markdown",
   "metadata": {},
   "source": [
    "# Uniprot Data Load to Amazon Neptune\n",
    "\n",
    "In this notebook, load the Uniprot dataset into your Neptune cluster. \n",
    "\n",
    "This is optional. Skip if you do not wish to load Uniprot data into your Neptune database. \n",
    "\n",
    "See README.md for instructions to setup the Neptune cluster, this notebook instance, an S3 bucket to stage the Uniprot data for bulk-load to Neptune, and Bedrock for LLM tests in a subsequent notebook."
   ]
  },
  {
   "cell_type": "markdown",
   "metadata": {},
   "source": [
    "## Load Uniprot data\n",
    "\n",
    "See https://aws.amazon.com/blogs/industries/exploring-the-uniprot-protein-knowledgebase-with-aws-open-data-and-amazon-neptune/\n",
    "\n",
    "### Set the name of your bucket."
   ]
  },
  {
   "cell_type": "code",
   "execution_count": null,
   "metadata": {},
   "outputs": [],
   "source": [
    "STAGING_BUCKET='<your bucket>'"
   ]
  },
  {
   "cell_type": "markdown",
   "metadata": {},
   "source": [
    "### Copy the uniprot files to your S3 bucket\n",
    "This may take several hours."
   ]
  },
  {
   "cell_type": "code",
   "execution_count": null,
   "metadata": {},
   "outputs": [],
   "source": [
    "%%bash -s \"$STAGING_BUCKET\"\n",
    "\n",
    "!aws s3 sync s3://aws-open-data-uniprot-rdf/2021-01 s3://$1/up-stage"
   ]
  },
  {
   "cell_type": "markdown",
   "metadata": {},
   "source": [
    "### Check number of files in your bucket matches the source set\n"
   ]
  },
  {
   "cell_type": "code",
   "execution_count": null,
   "metadata": {},
   "outputs": [],
   "source": [
    "%%bash -s \"$STAGING_BUCKET\"\n",
    "\n",
    "echo Source\n",
    "aws s3 ls s3://aws-open-data-uniprot-rdf/2021-01/supporting/ | wc -l\n",
    "aws s3 ls s3://aws-open-data-uniprot-rdf/2021-01/uniparc/ | wc -l\n",
    "aws s3 ls s3://aws-open-data-uniprot-rdf/2021-01/uniprot/ | wc -l\n",
    "aws s3 ls s3://aws-open-data-uniprot-rdf/2021-01/uniref/ | wc -l\n",
    "\n",
    "echo your bucket\n",
    "aws s3 ls s3://$1/up-stage/supporting/ | wc -l\n",
    "aws s3 ls s3://$1/up-stage/uniparc/ | wc -l\n",
    "aws s3 ls s3://$1/up-stage/uniprot/ | wc -l\n",
    "aws s3 ls s3://$1/up-stage/uniref/ | wc -l\n"
   ]
  },
  {
   "cell_type": "markdown",
   "metadata": {},
   "source": [
    "### Bulk-load from your S3 staging bucket to Neptune\n",
    "\n",
    "Because the data is so large, we recommend using an r5.12xlarge instance type in the primary writer instance of the cluster. Change to this type prior to running the load. When load completes, downgrade to a smaller instance."
   ]
  },
  {
   "cell_type": "code",
   "execution_count": null,
   "metadata": {},
   "outputs": [],
   "source": [
    "%load -s s3://{STAGING_BUCKET}/up-stage/supporting -f rdfxml -p OVERSUBSCRIBE --store-to loadres1 --no-fail-on-error  --run"
   ]
  },
  {
   "cell_type": "code",
   "execution_count": null,
   "metadata": {},
   "outputs": [],
   "source": [
    "%load -s s3://{STAGING_BUCKET}/up-stage/uniprot -f rdfxml -p OVERSUBSCRIBE --store-to loadres2 --no-fail-on-error  --run"
   ]
  },
  {
   "cell_type": "markdown",
   "metadata": {},
   "source": [
    "### Finally check load status"
   ]
  },
  {
   "cell_type": "code",
   "execution_count": null,
   "metadata": {},
   "outputs": [],
   "source": [
    "%load_status {loadres1['payload']['loadId']} --errors --details"
   ]
  },
  {
   "cell_type": "code",
   "execution_count": null,
   "metadata": {},
   "outputs": [],
   "source": [
    "%load_status {loadres2['payload']['loadId']} --errors --details"
   ]
  },
  {
   "cell_type": "markdown",
   "metadata": {},
   "source": [
    "## Verify and Explore Uniprot\n",
    "\n",
    "See https://aws.amazon.com/blogs/industries/exploring-the-uniprot-protein-knowledgebase-with-aws-open-data-and-amazon-neptune/ for more examples\n",
    "\n",
    "### Subclass records under Homo Sapiens"
   ]
  },
  {
   "cell_type": "code",
   "execution_count": null,
   "metadata": {},
   "outputs": [],
   "source": [
    "%%sparql\n",
    "PREFIX rdfs: <http://www.w3.org/2000/01/rdf-schema#>\n",
    "PREFIX taxon: <http://purl.uniprot.org/taxonomy/>\n",
    "PREFIX up: <http://purl.uniprot.org/core/>\n",
    "SELECT ?taxonomy ?scientific_name\n",
    "WHERE {\n",
    "    ?taxonomy a up:Taxon ;\n",
    "             up:scientificName ?scientific_name ;\n",
    "             rdfs:subClassOf taxon:9606 .\n",
    "} "
   ]
  },
  {
   "cell_type": "markdown",
   "metadata": {},
   "source": [
    "### Query proteins and their related Gene Onotology (GO) code"
   ]
  },
  {
   "cell_type": "code",
   "execution_count": null,
   "metadata": {},
   "outputs": [],
   "source": [
    "%%sparql\n",
    "PREFIX rdfs: <http://www.w3.org/2000/01/rdf-schema#>\n",
    "PREFIX taxon: <http://purl.uniprot.org/taxonomy/>\n",
    "PREFIX up: <http://purl.uniprot.org/core/>\n",
    "SELECT ?protein ?proteinMnemonic ?go \n",
    "WHERE {\n",
    "    ?protein a up:Protein ;       \n",
    "             up:mnemonic ?proteinMnemonic ;\n",
    "             up:organism taxon:9606 ;\n",
    "             up:classifiedWith ?go .\n",
    "    ?go a owl:Class .\n",
    "}\n",
    "LIMIT 10"
   ]
  },
  {
   "cell_type": "markdown",
   "metadata": {},
   "source": [
    "### Filter proteins by GO description"
   ]
  },
  {
   "cell_type": "code",
   "execution_count": null,
   "metadata": {},
   "outputs": [],
   "source": [
    "%%sparql\n",
    "PREFIX rdfs: <http://www.w3.org/2000/01/rdf-schema#>\n",
    "PREFIX taxon: <http://purl.uniprot.org/taxonomy/>\n",
    "PREFIX up: <http://purl.uniprot.org/core/>\n",
    "PREFIX go: <http://purl.obolibrary.org/obo/>\n",
    "SELECT ?proteinMnemonic ?goCode ?label\n",
    "WHERE {\n",
    "    ?protein a up:Protein ;  \n",
    "             up:mnemonic ?proteinMnemonic ;\n",
    "             up:organism taxon:9606 ;\n",
    "             up:classifiedWith ?go .                           \n",
    "    ?go a owl:Class ;\n",
    "        rdfs:label ?label .\n",
    "    \n",
    "    BIND(STRAFTER(STR(?go), \"obo/\") AS ?goCode)\n",
    "    FILTER (REGEX(?label, \"^cholesterol biosynthetic\", \"i\"))\n",
    "}\n",
    "ORDER BY ?proteinMnemonic ?go\n",
    "LIMIT 50"
   ]
  },
  {
   "cell_type": "markdown",
   "metadata": {},
   "source": [
    "### Visualize a proteins Gene Ontology (GO)"
   ]
  },
  {
   "cell_type": "code",
   "execution_count": null,
   "metadata": {},
   "outputs": [],
   "source": [
    "%%sparql\n",
    "PREFIX rdfs: <http://www.w3.org/2000/01/rdf-schema#>\n",
    "PREFIX taxon: <http://purl.uniprot.org/taxonomy/>\n",
    "PREFIX up: <http://purl.uniprot.org/core/>\n",
    "PREFIX go: <http://purl.obolibrary.org/obo/>\n",
    "PREFIX sc: <http://example.org/shortcuts/>\n",
    "\n",
    "CONSTRUCT {\n",
    "    ?protein rdfs:label ?proteinMnemonic ;\n",
    "        up:classifiedWith ?go .\n",
    "    \n",
    "    ?go rdfs:label ?label ;\n",
    "        rdfs:subClassOf ?ancestorGo .\n",
    "    \n",
    "    ?ancestorGo rdfs:label ?ancestorLabel .\n",
    "} WHERE {\n",
    "    BIND(<http://purl.uniprot.org/uniprot/Q9UBM7> AS ?protein)\n",
    "    \n",
    "    ?protein up:mnemonic ?proteinMnemonic ;\n",
    "        up:classifiedWith ?go .\n",
    "    \n",
    "    ?go a owl:Class ;\n",
    "        rdfs:label ?label ;\n",
    "        rdfs:subClassOf ?ancestorGo .\n",
    "    \n",
    "    ?ancestorGo a owl:Class ;\n",
    "        rdfs:label ?ancestorLabel .\n",
    "    \n",
    "    MINUS {\n",
    "       ?protein up:classifiedWith ?ancestorGo .\n",
    "   }\n",
    "}\n",
    "ORDER BY ?go"
   ]
  }
 ],
 "metadata": {
  "kernelspec": {
   "display_name": "Python 3",
   "language": "python",
   "name": "python3"
  },
  "language_info": {
   "codemirror_mode": {
    "name": "ipython",
    "version": 3
   },
   "file_extension": ".py",
   "mimetype": "text/x-python",
   "name": "python",
   "nbconvert_exporter": "python",
   "pygments_lexer": "ipython3",
   "version": "3.10.8"
  }
 },
 "nbformat": 4,
 "nbformat_minor": 4
}
