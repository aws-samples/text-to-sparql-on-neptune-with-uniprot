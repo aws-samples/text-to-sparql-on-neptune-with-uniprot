{
 "cells": [
  {
   "cell_type": "markdown",
   "metadata": {},
   "source": [
    "# Uniprot Data Load to Amazon Neptune\n",
    "\n",
    "This notebook \n",
    "Shows uniprot query using explicit schema"
   ]
  },
  {
   "cell_type": "markdown",
   "metadata": {},
   "source": [
    "## Setup\n",
    "\n",
    "- Create a new Neptune cluster. Use the defaults except for the template choose \"Development and Testing\"\n",
    "- Drop this ipynb file into this cluster's Neptune notebook instance\n",
    "- Create an S3 bucket in the same region and account. Ensure Neptune cluster has IAM role allowing sufficient access to bulk load from this bucket.\n"
   ]
  },
  {
   "cell_type": "markdown",
   "metadata": {},
   "source": [
    "## Load Uniprot data\n",
    "\n",
    "Copy subset of Uniprot data to your own S3 bucket.\n",
    "\n",
    "See https://aws.amazon.com/blogs/industries/exploring-the-uniprot-protein-knowledgebase-with-aws-open-data-and-amazon-neptune/\n",
    "\n",
    "First, set the name of your bucket."
   ]
  },
  {
   "cell_type": "code",
   "execution_count": null,
   "metadata": {},
   "outputs": [],
   "source": [
    "STAGING_BUCKET='<your bucket name>'"
   ]
  },
  {
   "cell_type": "markdown",
   "metadata": {},
   "source": [
    "Next copy subset of uniprot to your bucket"
   ]
  },
  {
   "cell_type": "code",
   "execution_count": null,
   "metadata": {},
   "outputs": [],
   "source": [
    "%%bash -s \"$STAGING_BUCKET\"\n",
    "\n",
    "echo Move data to a bucket in this region\n",
    "aws s3 cp s3://aws-open-data-uniprot-rdf/2021-01/supporting/go.rdf.gz s3://$1/uniprot/go.rdf.gz\n",
    "aws s3 cp s3://aws-open-data-uniprot-rdf/2021-01/uniprot/uniprotkb_eukaryota_opisthokonta_metazoa_33208_0.rdf.gz s3://$1/uniprot/uniprotkb_eukaryota_opisthokonta_metazoa_33208_0.rdf.gz\n",
    "aws s3 cp s3://aws-open-data-uniprot-rdf/2021-01/supporting/taxonomy.rdf.gz  s3://$1/uniprot/taxonomy.rdf.gz \n"
   ]
  },
  {
   "cell_type": "markdown",
   "metadata": {},
   "source": [
    "Next, bulk-load that data into your Neptune database. The bulk loader needs to be given the ARN of an IAM role that gives the Neptune cluster permission to access S3. This role could use the AmazonS3FullAccess policy (for development work, for production use we recommend the Principle of Least Privileges). It should use a trust relationship like this:\n",
    "```\n",
    "{\n",
    "    \"Version\": \"2012-10-17\",\n",
    "    \"Statement\": [\n",
    "        {\n",
    "            \"Effect\": \"Allow\",\n",
    "            \"Principal\": {\n",
    "                \"Service\": \"rds.amazonaws.com\"\n",
    "            },\n",
    "            \"Action\": \"sts:AssumeRole\"\n",
    "        }\n",
    "    ]\n",
    "}\n",
    "```\n",
    "Finally, this IAM role must both be (a) attached to the Neptune cluster (via, for e.g., the Neptune web console) and (b) included in the following variable:"
   ]
  },
  {
   "cell_type": "code",
   "execution_count": null,
   "metadata": {},
   "outputs": [],
   "source": [
    "LOADER_ARN=\"arn:<...>\""
   ]
  },
  {
   "cell_type": "code",
   "execution_count": null,
   "metadata": {},
   "outputs": [],
   "source": [
    "%load -s s3://{STAGING_BUCKET}/uniprot -l $LOADER_ARN -f rdfxml --store-to loadres --run"
   ]
  },
  {
   "cell_type": "markdown",
   "metadata": {},
   "source": [
    "Finally check load status"
   ]
  },
  {
   "cell_type": "code",
   "execution_count": null,
   "metadata": {},
   "outputs": [],
   "source": [
    "%load_status {loadres['payload']['loadId']} --errors --details"
   ]
  },
  {
   "cell_type": "markdown",
   "metadata": {},
   "source": [
    "## Verify and Explore Uniprot\n",
    "\n",
    "See https://aws.amazon.com/blogs/industries/exploring-the-uniprot-protein-knowledgebase-with-aws-open-data-and-amazon-neptune/ for more examples\n",
    "\n",
    "### Subclass records under Homo Sapiens"
   ]
  },
  {
   "cell_type": "code",
   "execution_count": null,
   "metadata": {},
   "outputs": [],
   "source": [
    "%%sparql\n",
    "PREFIX rdfs: <http://www.w3.org/2000/01/rdf-schema#>\n",
    "PREFIX taxon: <http://purl.uniprot.org/taxonomy/>\n",
    "PREFIX up: <http://purl.uniprot.org/core/>\n",
    "SELECT ?taxonomy ?scientific_name\n",
    "WHERE {\n",
    "    ?taxonomy a up:Taxon ;\n",
    "             up:scientificName ?scientific_name ;\n",
    "             rdfs:subClassOf taxon:9606 .\n",
    "} "
   ]
  },
  {
   "cell_type": "markdown",
   "metadata": {},
   "source": [
    "### Query proteins and their related Gene Onotology (GO) code"
   ]
  },
  {
   "cell_type": "code",
   "execution_count": null,
   "metadata": {},
   "outputs": [],
   "source": [
    "%%sparql\n",
    "PREFIX rdfs: <http://www.w3.org/2000/01/rdf-schema#>\n",
    "PREFIX taxon: <http://purl.uniprot.org/taxonomy/>\n",
    "PREFIX up: <http://purl.uniprot.org/core/>\n",
    "SELECT ?protein ?proteinMnemonic ?go \n",
    "WHERE {\n",
    "    ?protein a up:Protein ;       \n",
    "             up:mnemonic ?proteinMnemonic ;\n",
    "             up:organism taxon:9606 ;\n",
    "             up:classifiedWith ?go .\n",
    "    ?go a owl:Class .\n",
    "}\n",
    "LIMIT 10"
   ]
  },
  {
   "cell_type": "markdown",
   "metadata": {},
   "source": [
    "### Filter proteins by GO description"
   ]
  },
  {
   "cell_type": "code",
   "execution_count": null,
   "metadata": {},
   "outputs": [],
   "source": [
    "%%sparql\n",
    "PREFIX rdfs: <http://www.w3.org/2000/01/rdf-schema#>\n",
    "PREFIX taxon: <http://purl.uniprot.org/taxonomy/>\n",
    "PREFIX up: <http://purl.uniprot.org/core/>\n",
    "PREFIX go: <http://purl.obolibrary.org/obo/>\n",
    "SELECT ?proteinMnemonic ?goCode ?label\n",
    "WHERE {\n",
    "    ?protein a up:Protein ;  \n",
    "             up:mnemonic ?proteinMnemonic ;\n",
    "             up:organism taxon:9606 ;\n",
    "             up:classifiedWith ?go .                           \n",
    "    ?go a owl:Class ;\n",
    "        rdfs:label ?label .\n",
    "    \n",
    "    BIND(STRAFTER(STR(?go), \"obo/\") AS ?goCode)\n",
    "    FILTER (REGEX(?label, \"^cholesterol biosynthetic\", \"i\"))\n",
    "}\n",
    "ORDER BY ?proteinMnemonic ?go\n",
    "LIMIT 50"
   ]
  },
  {
   "cell_type": "markdown",
   "metadata": {},
   "source": [
    "### Visualize a protein's Gene Ontology (GO)"
   ]
  },
  {
   "cell_type": "code",
   "execution_count": null,
   "metadata": {},
   "outputs": [],
   "source": [
    "%%sparql\n",
    "PREFIX rdfs: <http://www.w3.org/2000/01/rdf-schema#>\n",
    "PREFIX taxon: <http://purl.uniprot.org/taxonomy/>\n",
    "PREFIX up: <http://purl.uniprot.org/core/>\n",
    "PREFIX go: <http://purl.obolibrary.org/obo/>\n",
    "PREFIX sc: <http://example.org/shortcuts/>\n",
    "\n",
    "CONSTRUCT {\n",
    "    ?protein rdfs:label ?proteinMnemonic ;\n",
    "        up:classifiedWith ?go .\n",
    "    \n",
    "    ?go rdfs:label ?label ;\n",
    "        rdfs:subClassOf ?ancestorGo .\n",
    "    \n",
    "    ?ancestorGo rdfs:label ?ancestorLabel .\n",
    "} WHERE {\n",
    "    BIND(<http://purl.uniprot.org/uniprot/Q9UBM7> AS ?protein)\n",
    "    \n",
    "    ?protein up:mnemonic ?proteinMnemonic ;\n",
    "        up:classifiedWith ?go .\n",
    "    \n",
    "    ?go a owl:Class ;\n",
    "        rdfs:label ?label ;\n",
    "        rdfs:subClassOf ?ancestorGo .\n",
    "    \n",
    "    ?ancestorGo a owl:Class ;\n",
    "        rdfs:label ?ancestorLabel .\n",
    "    \n",
    "    MINUS {\n",
    "       ?protein up:classifiedWith ?ancestorGo .\n",
    "   }\n",
    "}\n",
    "ORDER BY ?go"
   ]
  }
 ],
 "metadata": {
  "kernelspec": {
   "display_name": "Python 3",
   "language": "python",
   "name": "python3"
  },
  "language_info": {
   "codemirror_mode": {
    "name": "ipython",
    "version": 3
   },
   "file_extension": ".py",
   "mimetype": "text/x-python",
   "name": "python",
   "nbconvert_exporter": "python",
   "pygments_lexer": "ipython3",
   "version": "3.10.8"
  }
 },
 "nbformat": 4,
 "nbformat_minor": 4
}
